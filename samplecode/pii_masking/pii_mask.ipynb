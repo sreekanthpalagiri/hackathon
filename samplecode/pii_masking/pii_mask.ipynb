{
 "cells": [
  {
   "cell_type": "code",
   "execution_count": 3,
   "id": "a8bce779",
   "metadata": {},
   "outputs": [],
   "source": [
    "import spacy\n",
    "\n",
    "def mask_consecutive_number(text):\n",
    "    nlp = spacy.load(\"en_core_web_sm\")\n",
    "    #END: abpxx6d04wxr\n",
    "    doc = nlp(text)\n",
    "    result = []\n",
    "    buffer = []\n",
    "    check_list = [\"Ten\", \"o.\", \"o\", \"first\", \"second\", 'third', 'hundred', 'thousand', 'fifty', 'sixty', 'seventy', 'eighty', 'ninety', 'twenty', 'thirty', 'forty', 'Jan', 'January', 'Feb', 'February', 'March', 'April', 'May', 'June', 'July', 'August', 'September', 'October', 'November','December', 'Password', 'PWD', 'PASSWD']\n",
    "    for token in doc:\n",
    "        if (token.like_num) or (token.text in check_list):\n",
    "            buffer.append(token.text)\n",
    "        else:\n",
    "            if len(buffer) > 1:\n",
    "                result.append(\"[PII]\")\n",
    "            elif buffer:\n",
    "                result.append(buffer[0])\n",
    "            result.append(token.text)\n",
    "            buffer = []\n",
    "\n",
    "    if len(buffer) > 1:\n",
    "        result.append(\"[PII]\")\n",
    "    elif buffer:\n",
    "        result.append(buffer[0])\n",
    "\n",
    "    return \" \".join(result)"
   ]
  },
  {
   "cell_type": "code",
   "execution_count": 4,
   "id": "e6dd3b98",
   "metadata": {},
   "outputs": [
    {
     "name": "stdout",
     "output_type": "stream",
     "text": [
      "Text to mask is like , the last four digit of the [PII] is 816 - [PII] Go ahead\n"
     ]
    }
   ],
   "source": [
    "transcript = \"Text to mask is like, the last four digit of the first one is 816-701 8 Go ahead\"\n",
    "print(mask_consecutive_number(transcript))"
   ]
  }
 ],
 "metadata": {
  "kernelspec": {
   "display_name": "python_3_10_16",
   "language": "python",
   "name": "python3"
  },
  "language_info": {
   "codemirror_mode": {
    "name": "ipython",
    "version": 3
   },
   "file_extension": ".py",
   "mimetype": "text/x-python",
   "name": "python",
   "nbconvert_exporter": "python",
   "pygments_lexer": "ipython3",
   "version": "3.10.16"
  }
 },
 "nbformat": 4,
 "nbformat_minor": 5
}
